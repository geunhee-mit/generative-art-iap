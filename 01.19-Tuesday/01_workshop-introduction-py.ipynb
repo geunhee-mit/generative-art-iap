{
 "cells": [
  {
   "cell_type": "markdown",
   "metadata": {
    "slideshow": {
     "slide_type": "slide"
    }
   },
   "source": [
    "# Generative Art Workshop 2021\n",
    "### George Varnavides, Jovana Andrejevic, Nina Andrejevic\n",
    "\n",
    "\n",
    "### Resources\n",
    "- **Github repository:** https://github.com/gvarnavi/generative-art-iap\n",
    "- **Slack workspace:** Please e-mail gvarnavi@mit.edu, jandrejevic@g.harvard.edu, or nina12@mit.edu if you need an invite to the Slack workspace.\n",
    "\n",
    "\n",
    "### Schedule\n",
    "#### Tuesday, January 19, 10am-1pm ET\n",
    "- Class Overview\n",
    "- Geometric Fractals\n",
    "- Lindenmayer Systems\n",
    "- Audio Art"
   ]
  },
  {
   "cell_type": "markdown",
   "metadata": {
    "slideshow": {
     "slide_type": "slide"
    }
   },
   "source": [
    "#### Wednesday, January 20, 10am-1pm ET\n",
    "- Mathematical Fractals\n",
    "- Strange Attractors\n",
    "- Wallpaper Groups\n",
    "\n",
    "#### Thursday, January 21, 10am-1pm ET\n",
    "- Cellular Automata\n",
    "- Discrete and Continuous Physical Systems\n",
    "\n",
    "#### Friday, January 22, 10am-1pm ET\n",
    "- Reaction-Diffusion Systems\n",
    "- Geographic Data Visualization"
   ]
  },
  {
   "cell_type": "markdown",
   "metadata": {
    "slideshow": {
     "slide_type": "slide"
    }
   },
   "source": [
    "# Introduction to Generative Art\n",
    "\n",
    "### What is generative art?\n",
    "\n",
    "*Generative art is art or design generated through an autonomous process.*\n",
    "\n",
    "An autonomous process is a way of algorithmically generating new shapes, colors, patterns, and even sounds. By simply creating rules that dictate the creation process, we can enable a computer to follow those rules to produce new works.\n",
    "\n",
    "![cellular automaton](https://drive.google.com/uc?id=1kAXZdw3KHweTD3lHKMw9MHmhtFCzGAkC)"
   ]
  },
  {
   "cell_type": "markdown",
   "metadata": {
    "slideshow": {
     "slide_type": "slide"
    }
   },
   "source": [
    "## Examples in nature...\n",
    "\n",
    "![fractal](https://drive.google.com/uc?id=1_EE8dBv_Bxb8il9Bna9Ag2mBEfBk37Ic)"
   ]
  },
  {
   "cell_type": "markdown",
   "metadata": {
    "slideshow": {
     "slide_type": "slide"
    }
   },
   "source": [
    "## Examples from AI...\n",
    "\n",
    "### Paintings by Generative Adversarial Networks (GANs)\n",
    "![keragan](https://drive.google.com/uc?id=1ZYfI4DSEQ5XJEdT8r9VUenZqM8lRaorX)"
   ]
  },
  {
   "cell_type": "markdown",
   "metadata": {
    "slideshow": {
     "slide_type": "slide"
    }
   },
   "source": [
    "### Pokemon by GANs\n",
    "![pokemon](https://drive.google.com/uc?id=1kzLf547Y0EN1odB58_v8L1PmH5Nw40zz)"
   ]
  },
  {
   "cell_type": "markdown",
   "metadata": {
    "slideshow": {
     "slide_type": "slide"
    }
   },
   "source": [
    "## In this class...\n",
    "![fractal](https://drive.google.com/uc?id=10J-ADz6pIq7mhd537e1XW8QC7OhwMmwD)"
   ]
  },
  {
   "cell_type": "markdown",
   "metadata": {
    "slideshow": {
     "slide_type": "slide"
    }
   },
   "source": [
    "![chaos](https://drive.google.com/uc?id=1O8VZnprv0J35bWnLa-L48wuKPLc4oram)"
   ]
  },
  {
   "cell_type": "markdown",
   "metadata": {
    "slideshow": {
     "slide_type": "slide"
    }
   },
   "source": [
    "![pattern](https://drive.google.com/uc?id=1w8xw96oqPWamyNc-YSre0NacUQB_sl5U)"
   ]
  }
 ],
 "metadata": {
  "celltoolbar": "Slideshow",
  "kernelspec": {
   "display_name": "Python 3",
   "language": "python",
   "name": "python3"
  },
  "language_info": {
   "codemirror_mode": {
    "name": "ipython",
    "version": 3
   },
   "file_extension": ".py",
   "mimetype": "text/x-python",
   "name": "python",
   "nbconvert_exporter": "python",
   "pygments_lexer": "ipython3",
   "version": "3.7.5"
  }
 },
 "nbformat": 4,
 "nbformat_minor": 4
}
